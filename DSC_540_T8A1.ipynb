{
 "cells": [
  {
   "cell_type": "code",
   "execution_count": 36,
   "outputs": [
    {
     "data": {
      "text/html": "<h1>Topic8 Assignment</h1>",
      "text/plain": "Topic8 Assignment"
     },
     "metadata": {},
     "output_type": "display_data"
    },
    {
     "data": {
      "text/html": "<h1>Anoop Korappath</h1>",
      "text/plain": "Anoop Korappath"
     },
     "metadata": {},
     "output_type": "display_data"
    },
    {
     "data": {
      "text/html": "<h1>12/20/2021</h1>",
      "text/plain": "12/20/2021"
     },
     "metadata": {},
     "output_type": "display_data"
    }
   ],
   "source": [
    "from IPython.display import display\n",
    "display({'text/html': '<h1>Topic8 Assignment</h1>', 'text/plain': 'Topic8 Assignment'}, raw=True)\n",
    "display({'text/html': '<h1>Anoop Korappath</h1>', 'text/plain': 'Anoop Korappath'}, raw=True)\n",
    "display({'text/html': '<h1>12/20/2021</h1>', 'text/plain': '12/20/2021'}, raw=True)\n"
   ],
   "metadata": {
    "collapsed": false,
    "pycharm": {
     "name": "#%%\n"
    }
   }
  },
  {
   "cell_type": "code",
   "execution_count": 37,
   "outputs": [],
   "source": [
    "from matplotlib import pyplot as plt\n",
    "%matplotlib inline\n",
    "import pandas as pd\n",
    "import numpy as np\n",
    "import math\n",
    "from sklearn.model_selection import train_test_split"
   ],
   "metadata": {
    "collapsed": false,
    "pycharm": {
     "name": "#%%\n"
    }
   }
  },
  {
   "cell_type": "markdown",
   "source": [
    "## Data Loading"
   ],
   "metadata": {
    "collapsed": false
   }
  },
  {
   "cell_type": "code",
   "execution_count": 38,
   "outputs": [
    {
     "data": {
      "text/plain": "54"
     },
     "execution_count": 38,
     "metadata": {},
     "output_type": "execute_result"
    }
   ],
   "source": [
    "# Load data\n",
    "list_of_files = ['subject101.dat',\n",
    "                 'subject102.dat',\n",
    "                 'subject103.dat',\n",
    "                 'subject104.dat',\n",
    "                 'subject105.dat',\n",
    "                 'subject106.dat',\n",
    "                 'subject107.dat',\n",
    "                 'subject108.dat',\n",
    "                ]\n",
    "\n",
    "subjectID = [1,2,3,4,5,6,7,8]\n",
    "\n",
    "activityIDdict = {0: 'transient',\n",
    "              1: 'lying',\n",
    "              2: 'sitting',\n",
    "              3: 'standing',\n",
    "              4: 'walking',\n",
    "              5: 'running',\n",
    "              6: 'cycling',\n",
    "              7: 'Nordic_walking',\n",
    "              9: 'watching_TV',\n",
    "              10: 'computer_work',\n",
    "              11: 'car driving',\n",
    "              12: 'ascending_stairs',\n",
    "              13: 'descending_stairs',\n",
    "              16: 'vacuum_cleaning',\n",
    "              17: 'ironing',\n",
    "              18: 'folding_laundry',\n",
    "              19: 'house_cleaning',\n",
    "              20: 'playing_soccer',\n",
    "              24: 'rope_jumping' }\n",
    "\n",
    "colNames = [\"timestamp\", \"activityID\",\"heartrate\"]\n",
    "\n",
    "IMUhand = ['handTemperature',\n",
    "           'handAcc16_1', 'handAcc16_2', 'handAcc16_3',\n",
    "           'handAcc6_1', 'handAcc6_2', 'handAcc6_3',\n",
    "           'handGyro1', 'handGyro2', 'handGyro3',\n",
    "           'handMagne1', 'handMagne2', 'handMagne3',\n",
    "           'handOrientation1', 'handOrientation2', 'handOrientation3', 'handOrientation4']\n",
    "\n",
    "IMUchest = ['chestTemperature',\n",
    "           'chestAcc16_1', 'chestAcc16_2', 'chestAcc16_3',\n",
    "           'chestAcc6_1', 'chestAcc6_2', 'chestAcc6_3',\n",
    "           'chestGyro1', 'chestGyro2', 'chestGyro3',\n",
    "           'chestMagne1', 'chestMagne2', 'chestMagne3',\n",
    "           'chestOrientation1', 'chestOrientation2', 'chestOrientation3', 'chestOrientation4']\n",
    "\n",
    "IMUankle = ['ankleTemperature',\n",
    "           'ankleAcc16_1', 'ankleAcc16_2', 'ankleAcc16_3',\n",
    "           'ankleAcc6_1', 'ankleAcc6_2', 'ankleAcc6_3',\n",
    "           'ankleGyro1', 'ankleGyro2', 'ankleGyro3',\n",
    "           'ankleMagne1', 'ankleMagne2', 'ankleMagne3',\n",
    "           'ankleOrientation1', 'ankleOrientation2', 'ankleOrientation3', 'ankleOrientation4']\n",
    "\n",
    "columns = colNames + IMUhand + IMUchest + IMUankle  #all columns in one list\n",
    "\n",
    "len(columns)"
   ],
   "metadata": {
    "collapsed": false,
    "pycharm": {
     "name": "#%%\n"
    }
   }
  },
  {
   "cell_type": "code",
   "execution_count": 39,
   "outputs": [
    {
     "name": "stdout",
     "output_type": "stream",
     "text": [
      "   timestamp  activityID  heartrate  handTemperature  handAcc16_1  \\\n",
      "0       8.38           0      104.0             30.0      2.37223   \n",
      "1       8.39           0        NaN             30.0      2.18837   \n",
      "2       8.40           0        NaN             30.0      2.37357   \n",
      "3       8.41           0        NaN             30.0      2.07473   \n",
      "4       8.42           0        NaN             30.0      2.22936   \n",
      "\n",
      "   handAcc16_2  handAcc16_3  handAcc6_1  handAcc6_2  handAcc6_3  ...  \\\n",
      "0      8.60074      3.51048     2.43954     8.76165     3.35465  ...   \n",
      "1      8.56560      3.66179     2.39494     8.55081     3.64207  ...   \n",
      "2      8.60107      3.54898     2.30514     8.53644     3.73280  ...   \n",
      "3      8.52853      3.66021     2.33528     8.53622     3.73277  ...   \n",
      "4      8.83122      3.70000     2.23055     8.59741     3.76295  ...   \n",
      "\n",
      "   ankleGyro2  ankleGyro3  ankleMagne1  ankleMagne2  ankleMagne3  \\\n",
      "0    0.009250   -0.017580     -61.1888     -38.9599     -58.1438   \n",
      "1   -0.004638    0.000368     -59.8479     -38.8919     -58.5253   \n",
      "2    0.000148    0.022495     -60.7361     -39.4138     -58.3999   \n",
      "3   -0.020301    0.011275     -60.4091     -38.7635     -58.3956   \n",
      "4   -0.014303   -0.002823     -61.5199     -39.3879     -58.2694   \n",
      "\n",
      "   ankleOrientation1  ankleOrientation2  ankleOrientation3  ankleOrientation4  \\\n",
      "0                1.0                0.0                0.0                0.0   \n",
      "1                1.0                0.0                0.0                0.0   \n",
      "2                1.0                0.0                0.0                0.0   \n",
      "3                1.0                0.0                0.0                0.0   \n",
      "4                1.0                0.0                0.0                0.0   \n",
      "\n",
      "   subject_id  \n",
      "0           1  \n",
      "1           1  \n",
      "2           1  \n",
      "3           1  \n",
      "4           1  \n",
      "\n",
      "[5 rows x 55 columns]\n"
     ]
    }
   ],
   "source": [
    "dataCollection = pd.DataFrame()\n",
    "for file in list_of_files:\n",
    "    procData = pd.read_table(file, header=None, sep='\\s+')\n",
    "    procData.columns = columns\n",
    "    procData['subject_id'] = int(file[-5])\n",
    "    dataCollection = dataCollection.append(procData, ignore_index=True)\n",
    "\n",
    "dataCollection.reset_index(drop=True, inplace=True)\n",
    "print(dataCollection.head())"
   ],
   "metadata": {
    "collapsed": false,
    "pycharm": {
     "name": "#%%\n"
    }
   }
  },
  {
   "cell_type": "markdown",
   "source": [
    "## Data Cleaning"
   ],
   "metadata": {
    "collapsed": false,
    "pycharm": {
     "name": "#%% md\n"
    }
   }
  },
  {
   "cell_type": "code",
   "execution_count": 40,
   "outputs": [
    {
     "name": "stderr",
     "output_type": "stream",
     "text": [
      "C:\\Users\\Anoops\\PycharmProjects\\pythonProject\\venv\\lib\\site-packages\\pandas\\core\\indexing.py:1732: SettingWithCopyWarning: \n",
      "A value is trying to be set on a copy of a slice from a DataFrame\n",
      "\n",
      "See the caveats in the documentation: https://pandas.pydata.org/pandas-docs/stable/user_guide/indexing.html#returning-a-view-versus-a-copy\n",
      "  self._setitem_single_block(indexer, value, name)\n"
     ]
    },
    {
     "data": {
      "text/plain": "timestamp           0\nactivityID          0\nheartrate           0\nhandTemperature     0\nhandAcc16_1         0\nhandAcc16_2         0\nhandAcc16_3         0\nhandAcc6_1          0\nhandAcc6_2          0\nhandAcc6_3          0\nhandGyro1           0\nhandGyro2           0\nhandGyro3           0\nhandMagne1          0\nhandMagne2          0\nhandMagne3          0\nchestTemperature    0\nchestAcc16_1        0\nchestAcc16_2        0\nchestAcc16_3        0\nchestAcc6_1         0\nchestAcc6_2         0\nchestAcc6_3         0\nchestGyro1          0\nchestGyro2          0\nchestGyro3          0\nchestMagne1         0\nchestMagne2         0\nchestMagne3         0\nankleTemperature    0\nankleAcc16_1        0\nankleAcc16_2        0\nankleAcc16_3        0\nankleAcc6_1         0\nankleAcc6_2         0\nankleAcc6_3         0\nankleGyro1          0\nankleGyro2          0\nankleGyro3          0\nankleMagne1         0\nankleMagne2         0\nankleMagne3         0\nsubject_id          0\ndtype: int64"
     },
     "execution_count": 40,
     "metadata": {},
     "output_type": "execute_result"
    }
   ],
   "source": [
    "def dataCleaning(dataCollection):\n",
    "        dataCollection = dataCollection.drop(['handOrientation1', 'handOrientation2', 'handOrientation3', 'handOrientation4',\n",
    "                                             'chestOrientation1', 'chestOrientation2', 'chestOrientation3', 'chestOrientation4',\n",
    "                                             'ankleOrientation1', 'ankleOrientation2', 'ankleOrientation3', 'ankleOrientation4'],\n",
    "                                             axis = 1)  # removal of orientation columns as they are not needed\n",
    "        dataCollection = dataCollection.drop(dataCollection[dataCollection.activityID == 0].index) #removal of any row of activity 0 as it is transient activity which it is not used\n",
    "        dataCollection = dataCollection.apply(pd.to_numeric, errors = 'coerce') #removal of non numeric data in cells\n",
    "        dataCollection = dataCollection.interpolate() #removal of any remaining NaN value cells by constructing new data points in known set of data points\n",
    "\n",
    "        return dataCollection\n",
    "\n",
    "dataCol = dataCleaning(dataCollection)\n",
    "dataCol.reset_index(drop = True, inplace = True)\n",
    "dataCol.head(10)\n",
    "\n",
    "dataCol.isnull().sum()\n",
    "\n",
    "for i in range(0,4):\n",
    "    dataCol[\"heartrate\"].iloc[i]=100\n",
    "\n",
    "dataCol.isnull().sum()"
   ],
   "metadata": {
    "collapsed": false,
    "pycharm": {
     "name": "#%%\n"
    }
   }
  },
  {
   "cell_type": "markdown",
   "source": [
    "## Exploratory Data Analysis"
   ],
   "metadata": {
    "collapsed": false,
    "pycharm": {
     "name": "#%% md\n"
    }
   }
  },
  {
   "cell_type": "code",
   "execution_count": 41,
   "outputs": [
    {
     "data": {
      "text/plain": "<Figure size 864x432 with 1 Axes>",
      "image/png": "[encoded data removed]"
     },
     "metadata": {
      "needs_background": "light"
     },
     "output_type": "display_data"
    }
   ],
   "source": [
    "dataCol['activityID'].value_counts().plot(kind = \"bar\",figsize = (12,6))\n",
    "plt.show()"
   ],
   "metadata": {
    "collapsed": false,
    "pycharm": {
     "name": "#%%\n"
    }
   }
  },
  {
   "cell_type": "code",
   "execution_count": 42,
   "outputs": [],
   "source": [
    "train_df = dataCol.sample(frac=0.8, random_state=1)\n",
    "test_df = dataCol.drop(train_df.index)"
   ],
   "metadata": {
    "collapsed": false,
    "pycharm": {
     "name": "#%%\n"
    }
   }
  },
  {
   "cell_type": "code",
   "execution_count": 43,
   "outputs": [
    {
     "data": {
      "text/plain": "<Figure size 288x288 with 1 Axes>",
      "image/png": "[encoded data removed]"
     },
     "metadata": {
      "needs_background": "light"
     },
     "output_type": "display_data"
    }
   ],
   "source": [
    "import seaborn as sns\n",
    "\n",
    "fig, ax = plt.subplots(figsize=(4,4))\n",
    "plt.title(\"Heart Rate \")\n",
    "ax = sns.boxplot(y=train_df[\"heartrate\"])"
   ],
   "metadata": {
    "collapsed": false,
    "pycharm": {
     "name": "#%%\n"
    }
   }
  },
  {
   "cell_type": "code",
   "execution_count": 44,
   "outputs": [
    {
     "data": {
      "text/plain": "<AxesSubplot:xlabel='activityID'>"
     },
     "execution_count": 44,
     "metadata": {},
     "output_type": "execute_result"
    },
    {
     "data": {
      "text/plain": "<Figure size 432x288 with 1 Axes>",
      "image/png": "[encoded data removed]"
     },
     "metadata": {
      "needs_background": "light"
     },
     "output_type": "display_data"
    }
   ],
   "source": [
    "df_hr_act = train_df['heartrate'].groupby(train_df['activityID']).mean()\n",
    "df_hr_act.index = df_hr_act.index.map(activityIDdict)\n",
    "df_hr_act.plot(kind='bar')"
   ],
   "metadata": {
    "collapsed": false,
    "pycharm": {
     "name": "#%%\n"
    }
   }
  },
  {
   "cell_type": "code",
   "execution_count": 45,
   "outputs": [
    {
     "name": "stderr",
     "output_type": "stream",
     "text": [
      "C:\\Users\\Anoops\\AppData\\Local\\Temp/ipykernel_10020/2784983121.py:6: DeprecationWarning: `np.bool` is a deprecated alias for the builtin `bool`. To silence this warning, use `bool` by itself. Doing this will not modify any behavior and is safe. If you specifically wanted the numpy scalar type, use `np.bool_` here.\n",
      "Deprecated in NumPy 1.20; for more details and guidance: https://numpy.org/devdocs/release/1.20.0-notes.html#deprecations\n",
      "  sns.heatmap(df_corr, mask=np.zeros_like(df_corr, dtype=np.bool), cmap = \"BrBG\",ax=ax)\n"
     ]
    },
    {
     "data": {
      "text/plain": "<Figure size 1080x720 with 2 Axes>",
      "image/png": "[encoded data removed]"
     },
     "metadata": {
      "needs_background": "light"
     },
     "output_type": "display_data"
    }
   ],
   "source": [
    "from pandas.plotting import scatter_matrix\n",
    "df_corr = train_df.corr()\n",
    "df_corr = df_corr.drop(['activityID'], axis = 1)\n",
    "\n",
    "f, ax = plt.subplots(figsize=(15, 10))\n",
    "sns.heatmap(df_corr, mask=np.zeros_like(df_corr, dtype=np.bool), cmap = \"BrBG\",ax=ax)\n",
    "plt.show()\n"
   ],
   "metadata": {
    "collapsed": false,
    "pycharm": {
     "name": "#%%\n"
    }
   }
  },
  {
   "cell_type": "code",
   "execution_count": 46,
   "outputs": [
    {
     "name": "stderr",
     "output_type": "stream",
     "text": [
      "C:\\Users\\Anoops\\AppData\\Local\\Temp/ipykernel_10020/1683004781.py:1: FutureWarning: In a future version of pandas all arguments of DataFrame.drop except for the argument 'labels' will be keyword-only\n",
      "  train_df = train_df.drop([\"timestamp\", \"subject_id\"],1)\n"
     ]
    }
   ],
   "source": [
    "train_df = train_df.drop([\"timestamp\", \"subject_id\"],1)"
   ],
   "metadata": {
    "collapsed": false,
    "pycharm": {
     "name": "#%%\n"
    }
   }
  },
  {
   "cell_type": "code",
   "execution_count": 47,
   "outputs": [
    {
     "data": {
      "text/plain": "       activityID  heartrate  handTemperature  handAcc16_1  handAcc16_2  \\\n74774           1   0.466667        -1.116279    -0.772876     0.325627   \n17777           1   1.066667         0.046512    -2.004390     0.718673   \n12048           1   0.533333        -0.767442    -0.162922    -1.360250   \n86125           1   0.400000         0.186047    -2.407072    -0.806931   \n6623            1   0.866667        -0.883721     0.188669     0.497120   \n\n       handAcc16_3  handAcc6_1  handAcc6_2  handAcc6_3  handGyro1  ...  \\\n74774     0.887992   -0.797343    0.336158    0.696760   0.368636  ...   \n17777    -1.808131   -1.977769    0.700005   -1.893334   0.635275  ...   \n12048    -6.445182   -0.183792   -1.321069   -6.660295  -1.229761  ...   \n86125    -2.784826   -2.347814   -0.768982   -2.894412  -0.247789  ...   \n6623     -0.337784    0.149810    0.479504   -0.578801  -0.777399  ...   \n\n       ankleAcc16_3  ankleAcc6_1  ankleAcc6_2  ankleAcc6_3  ankleGyro1  \\\n74774     -0.155383    -0.659325     0.041087    -0.157481   -0.092922   \n17777      0.540571     9.250092     1.121616     0.559376    0.790425   \n12048     -1.643833    -0.867251     1.679278    -1.502598   -0.384975   \n86125      0.395509     9.179216     1.294938     0.371705    0.647321   \n6623      -0.736693    -0.132351     0.207680    -0.719521    0.124034   \n\n       ankleGyro2  ankleGyro3  ankleMagne1  ankleMagne2  ankleMagne3  \n74774   -0.067120    0.455806     0.323159     0.409606    -0.470270  \n17777    0.007065   -0.177394    -5.220350    -1.927955    17.514200  \n12048   -0.441231   -0.443815    -0.980922    -0.290919    12.230861  \n86125   -0.801849   -1.209630    -3.462989     1.114372    -3.206017  \n6623     0.606147   -0.172618     0.130635     1.713549     0.162294  \n\n[5 rows x 41 columns]",
      "text/html": "<div>\n<style scoped>\n    .dataframe tbody tr th:only-of-type {\n        vertical-align: middle;\n    }\n\n    .dataframe tbody tr th {\n        vertical-align: top;\n    }\n\n    .dataframe thead th {\n        text-align: right;\n    }\n</style>\n<table border=\"1\" class=\"dataframe\">\n  <thead>\n    <tr style=\"text-align: right;\">\n      <th></th>\n      <th>activityID</th>\n      <th>heartrate</th>\n      <th>handTemperature</th>\n      <th>handAcc16_1</th>\n      <th>handAcc16_2</th>\n      <th>handAcc16_3</th>\n      <th>handAcc6_1</th>\n      <th>handAcc6_2</th>\n      <th>handAcc6_3</th>\n      <th>handGyro1</th>\n      <th>...</th>\n      <th>ankleAcc16_3</th>\n      <th>ankleAcc6_1</th>\n      <th>ankleAcc6_2</th>\n      <th>ankleAcc6_3</th>\n      <th>ankleGyro1</th>\n      <th>ankleGyro2</th>\n      <th>ankleGyro3</th>\n      <th>ankleMagne1</th>\n      <th>ankleMagne2</th>\n      <th>ankleMagne3</th>\n    </tr>\n  </thead>\n  <tbody>\n    <tr>\n      <th>74774</th>\n      <td>1</td>\n      <td>0.466667</td>\n      <td>-1.116279</td>\n      <td>-0.772876</td>\n      <td>0.325627</td>\n      <td>0.887992</td>\n      <td>-0.797343</td>\n      <td>0.336158</td>\n      <td>0.696760</td>\n      <td>0.368636</td>\n      <td>...</td>\n      <td>-0.155383</td>\n      <td>-0.659325</td>\n      <td>0.041087</td>\n      <td>-0.157481</td>\n      <td>-0.092922</td>\n      <td>-0.067120</td>\n      <td>0.455806</td>\n      <td>0.323159</td>\n      <td>0.409606</td>\n      <td>-0.470270</td>\n    </tr>\n    <tr>\n      <th>17777</th>\n      <td>1</td>\n      <td>1.066667</td>\n      <td>0.046512</td>\n      <td>-2.004390</td>\n      <td>0.718673</td>\n      <td>-1.808131</td>\n      <td>-1.977769</td>\n      <td>0.700005</td>\n      <td>-1.893334</td>\n      <td>0.635275</td>\n      <td>...</td>\n      <td>0.540571</td>\n      <td>9.250092</td>\n      <td>1.121616</td>\n      <td>0.559376</td>\n      <td>0.790425</td>\n      <td>0.007065</td>\n      <td>-0.177394</td>\n      <td>-5.220350</td>\n      <td>-1.927955</td>\n      <td>17.514200</td>\n    </tr>\n    <tr>\n      <th>12048</th>\n      <td>1</td>\n      <td>0.533333</td>\n      <td>-0.767442</td>\n      <td>-0.162922</td>\n      <td>-1.360250</td>\n      <td>-6.445182</td>\n      <td>-0.183792</td>\n      <td>-1.321069</td>\n      <td>-6.660295</td>\n      <td>-1.229761</td>\n      <td>...</td>\n      <td>-1.643833</td>\n      <td>-0.867251</td>\n      <td>1.679278</td>\n      <td>-1.502598</td>\n      <td>-0.384975</td>\n      <td>-0.441231</td>\n      <td>-0.443815</td>\n      <td>-0.980922</td>\n      <td>-0.290919</td>\n      <td>12.230861</td>\n    </tr>\n    <tr>\n      <th>86125</th>\n      <td>1</td>\n      <td>0.400000</td>\n      <td>0.186047</td>\n      <td>-2.407072</td>\n      <td>-0.806931</td>\n      <td>-2.784826</td>\n      <td>-2.347814</td>\n      <td>-0.768982</td>\n      <td>-2.894412</td>\n      <td>-0.247789</td>\n      <td>...</td>\n      <td>0.395509</td>\n      <td>9.179216</td>\n      <td>1.294938</td>\n      <td>0.371705</td>\n      <td>0.647321</td>\n      <td>-0.801849</td>\n      <td>-1.209630</td>\n      <td>-3.462989</td>\n      <td>1.114372</td>\n      <td>-3.206017</td>\n    </tr>\n    <tr>\n      <th>6623</th>\n      <td>1</td>\n      <td>0.866667</td>\n      <td>-0.883721</td>\n      <td>0.188669</td>\n      <td>0.497120</td>\n      <td>-0.337784</td>\n      <td>0.149810</td>\n      <td>0.479504</td>\n      <td>-0.578801</td>\n      <td>-0.777399</td>\n      <td>...</td>\n      <td>-0.736693</td>\n      <td>-0.132351</td>\n      <td>0.207680</td>\n      <td>-0.719521</td>\n      <td>0.124034</td>\n      <td>0.606147</td>\n      <td>-0.172618</td>\n      <td>0.130635</td>\n      <td>1.713549</td>\n      <td>0.162294</td>\n    </tr>\n  </tbody>\n</table>\n<p>5 rows × 41 columns</p>\n</div>"
     },
     "execution_count": 47,
     "metadata": {},
     "output_type": "execute_result"
    }
   ],
   "source": [
    "from sklearn import preprocessing\n",
    "from sklearn.preprocessing import StandardScaler,RobustScaler\n",
    "\n",
    "#apply scaling to all columns except subject and activity\n",
    "scaler = RobustScaler()\n",
    "df_scaled = train_df.copy()\n",
    "df_scaled_test = test_df.copy()\n",
    "\n",
    "df_scaled.iloc[:,1:41] = scaler.fit_transform(df_scaled.iloc[:,1:41])\n",
    "df_scaled_test.iloc[:,1:41] = scaler.fit_transform(df_scaled_test.iloc[:,1:41])\n",
    "\n",
    "df_scaled.head()"
   ],
   "metadata": {
    "collapsed": false,
    "pycharm": {
     "name": "#%%\n"
    }
   }
  },
  {
   "cell_type": "code",
   "execution_count": 48,
   "outputs": [],
   "source": [
    "X_train = df_scaled.drop('activityID', axis=1).values\n",
    "y_train = df_scaled['activityID'].values\n",
    "\n",
    "# Test Dataset\n",
    "X_test = df_scaled.drop('activityID', axis=1).values\n",
    "y_test = df_scaled['activityID'].values"
   ],
   "metadata": {
    "collapsed": false,
    "pycharm": {
     "name": "#%%\n"
    }
   }
  },
  {
   "cell_type": "markdown",
   "source": [
    "## Dimensionality reduction using Principal Component Analysis(PCA)"
   ],
   "metadata": {
    "collapsed": false,
    "pycharm": {
     "name": "#%% md\n"
    }
   }
  },
  {
   "cell_type": "code",
   "execution_count": 49,
   "outputs": [
    {
     "data": {
      "text/plain": "<Figure size 432x288 with 1 Axes>",
      "image/png": "[encoded data removed]"
     },
     "metadata": {
      "needs_background": "light"
     },
     "output_type": "display_data"
    }
   ],
   "source": [
    "from sklearn.decomposition import PCA\n",
    "pca = PCA()\n",
    "pca.fit(X_train)\n",
    "var= pca.explained_variance_ratio_\n",
    "var1=np.cumsum(np.round(pca.explained_variance_ratio_, decimals=4)*100)\n",
    "\n",
    "plt.title(\"PCA Variance against num of Components\")\n",
    "plt.ylabel(\"Variance %\")\n",
    "plt.xlabel(\"Number of componments\")\n",
    "l = plt.axhline(94, color=\"red\")\n",
    "\n",
    "plt.plot(var1)\n",
    "plt.grid()"
   ],
   "metadata": {
    "collapsed": false,
    "pycharm": {
     "name": "#%%\n"
    }
   }
  },
  {
   "cell_type": "code",
   "execution_count": 50,
   "outputs": [],
   "source": [
    "pca = PCA(n_components=17)\n",
    "X_train=pca.fit_transform(X_train)\n",
    "X_test=pca.fit_transform(X_test)"
   ],
   "metadata": {
    "collapsed": false,
    "pycharm": {
     "name": "#%%\n"
    }
   }
  },
  {
   "cell_type": "markdown",
   "source": [
    "## Decision Tree"
   ],
   "metadata": {
    "collapsed": false
   }
  },
  {
   "cell_type": "code",
   "execution_count": 51,
   "outputs": [
    {
     "data": {
      "text/plain": "DecisionTreeClassifier(random_state=42)"
     },
     "execution_count": 51,
     "metadata": {},
     "output_type": "execute_result"
    }
   ],
   "source": [
    "from sklearn.model_selection import train_test_split\n",
    "from sklearn.tree import DecisionTreeClassifier\n",
    "clf = DecisionTreeClassifier(random_state=42)\n",
    "clf.fit(X_train, y_train)"
   ],
   "metadata": {
    "collapsed": false,
    "pycharm": {
     "name": "#%%\n"
    }
   }
  },
  {
   "cell_type": "code",
   "execution_count": 52,
   "outputs": [],
   "source": [
    "from sklearn.model_selection import cross_val_score, cross_val_predict\n",
    "from sklearn.metrics import accuracy_score, classification_report, confusion_matrix"
   ],
   "metadata": {
    "collapsed": false,
    "pycharm": {
     "name": "#%%\n"
    }
   }
  },
  {
   "cell_type": "code",
   "execution_count": 53,
   "outputs": [],
   "source": [
    "def print_score(clf, X_train, y_train, X_test, y_test, train=True):\n",
    "    '''\n",
    "    print the accuracy score, classification report and confusion matrix of classifier\n",
    "    '''\n",
    "    if train:\n",
    "        '''\n",
    "        training performance\n",
    "        '''\n",
    "        print(\"Train Result:\\n\")\n",
    "        print(\"accuracy score: {0:.4f}\\n\".format(accuracy_score(y_train, clf.predict(X_train))))\n",
    "        print(\"Classification Report: \\n {}\\n\".format(classification_report(y_train, clf.predict(X_train))))\n",
    "        print(\"Confusion Matrix: \\n {}\\n\".format(confusion_matrix(y_train, clf.predict(X_train))))\n",
    "\n",
    "        res = cross_val_score(clf, X_train, y_train.ravel(), cv=10, scoring='accuracy')\n",
    "        print(\"Average Accuracy: \\t {0:.4f}\".format(np.mean(res)))\n",
    "        print(\"Accuracy SD: \\t\\t {0:.4f}\".format(np.std(res)))\n",
    "\n",
    "    elif train==False:\n",
    "        '''\n",
    "        test performance\n",
    "        '''\n",
    "        print(\"Test Result:\\n\")\n",
    "        print(\"accuracy score: {0:.4f}\\n\".format(accuracy_score(y_test, clf.predict(X_test))))\n",
    "        print(\"Classification Report: \\n {}\\n\".format(classification_report(y_test, clf.predict(X_test))))\n",
    "        print(\"Confusion Matrix: \\n {}\\n\".format(confusion_matrix(y_test, clf.predict(X_test))))"
   ],
   "metadata": {
    "collapsed": false,
    "pycharm": {
     "name": "#%%\n"
    }
   }
  },
  {
   "cell_type": "code",
   "execution_count": 54,
   "outputs": [
    {
     "name": "stdout",
     "output_type": "stream",
     "text": [
      "Train Result:\n",
      "\n",
      "accuracy score: 1.0000\n",
      "\n",
      "Classification Report: \n",
      "               precision    recall  f1-score   support\n",
      "\n",
      "           1       1.00      1.00      1.00     80030\n",
      "\n",
      "    accuracy                           1.00     80030\n",
      "   macro avg       1.00      1.00      1.00     80030\n",
      "weighted avg       1.00      1.00      1.00     80030\n",
      "\n",
      "\n",
      "Confusion Matrix: \n",
      " [[80030]]\n",
      "\n",
      "Average Accuracy: \t 1.0000\n",
      "Accuracy SD: \t\t 0.0000\n"
     ]
    }
   ],
   "source": [
    "print_score(clf, X_train, y_train, X_test, y_test, train=True)"
   ],
   "metadata": {
    "collapsed": false,
    "pycharm": {
     "name": "#%%\n"
    }
   }
  },
  {
   "cell_type": "code",
   "execution_count": 55,
   "outputs": [
    {
     "name": "stdout",
     "output_type": "stream",
     "text": [
      "Test Result:\n",
      "\n",
      "accuracy score: 1.0000\n",
      "\n",
      "Classification Report: \n",
      "               precision    recall  f1-score   support\n",
      "\n",
      "           1       1.00      1.00      1.00     80030\n",
      "\n",
      "    accuracy                           1.00     80030\n",
      "   macro avg       1.00      1.00      1.00     80030\n",
      "weighted avg       1.00      1.00      1.00     80030\n",
      "\n",
      "\n",
      "Confusion Matrix: \n",
      " [[80030]]\n",
      "\n"
     ]
    }
   ],
   "source": [
    "print_score(clf, X_train, y_train, X_test, y_test, train=False)"
   ],
   "metadata": {
    "collapsed": false,
    "pycharm": {
     "name": "#%%\n"
    }
   }
  },
  {
   "cell_type": "markdown",
   "source": [
    "## Bagging"
   ],
   "metadata": {
    "collapsed": false
   }
  },
  {
   "cell_type": "code",
   "execution_count": 56,
   "outputs": [
    {
     "data": {
      "text/plain": "BaggingClassifier(base_estimator=DecisionTreeClassifier(random_state=42),\n                  n_estimators=100, n_jobs=-1, random_state=42)"
     },
     "execution_count": 56,
     "metadata": {},
     "output_type": "execute_result"
    }
   ],
   "source": [
    "from sklearn.ensemble import BaggingClassifier\n",
    "bag_clf = BaggingClassifier(base_estimator=clf, n_estimators=100,\n",
    "                            bootstrap=True, n_jobs=-1, random_state=42)\n",
    "bag_clf.fit(X_train, y_train.ravel())"
   ],
   "metadata": {
    "collapsed": false,
    "pycharm": {
     "name": "#%%\n"
    }
   }
  },
  {
   "cell_type": "code",
   "execution_count": 57,
   "outputs": [
    {
     "name": "stdout",
     "output_type": "stream",
     "text": [
      "Train Result:\n",
      "\n",
      "accuracy score: 1.0000\n",
      "\n",
      "Classification Report: \n",
      "               precision    recall  f1-score   support\n",
      "\n",
      "           1       1.00      1.00      1.00     80030\n",
      "\n",
      "    accuracy                           1.00     80030\n",
      "   macro avg       1.00      1.00      1.00     80030\n",
      "weighted avg       1.00      1.00      1.00     80030\n",
      "\n",
      "\n",
      "Confusion Matrix: \n",
      " [[80030]]\n",
      "\n",
      "Average Accuracy: \t 1.0000\n",
      "Accuracy SD: \t\t 0.0000\n"
     ]
    }
   ],
   "source": [
    "print_score(bag_clf, X_train, y_train, X_test, y_test, train=True)"
   ],
   "metadata": {
    "collapsed": false,
    "pycharm": {
     "name": "#%%\n"
    }
   }
  },
  {
   "cell_type": "code",
   "execution_count": 58,
   "outputs": [
    {
     "name": "stdout",
     "output_type": "stream",
     "text": [
      "Test Result:\n",
      "\n",
      "accuracy score: 1.0000\n",
      "\n",
      "Classification Report: \n",
      "               precision    recall  f1-score   support\n",
      "\n",
      "           1       1.00      1.00      1.00     80030\n",
      "\n",
      "    accuracy                           1.00     80030\n",
      "   macro avg       1.00      1.00      1.00     80030\n",
      "weighted avg       1.00      1.00      1.00     80030\n",
      "\n",
      "\n",
      "Confusion Matrix: \n",
      " [[80030]]\n",
      "\n"
     ]
    }
   ],
   "source": [
    "print_score(bag_clf, X_train, y_train, X_test, y_test, train=False)\n"
   ],
   "metadata": {
    "collapsed": false,
    "pycharm": {
     "name": "#%%\n"
    }
   }
  },
  {
   "cell_type": "markdown",
   "source": [
    "## Random Forest"
   ],
   "metadata": {
    "collapsed": false
   }
  },
  {
   "cell_type": "code",
   "execution_count": 59,
   "outputs": [
    {
     "data": {
      "text/plain": "RandomForestClassifier()"
     },
     "execution_count": 59,
     "metadata": {},
     "output_type": "execute_result"
    }
   ],
   "source": [
    "from sklearn.ensemble import RandomForestClassifier\n",
    "rf_clf = RandomForestClassifier(n_estimators=100)\n",
    "rf_clf.fit(X_train, y_train.ravel())"
   ],
   "metadata": {
    "collapsed": false,
    "pycharm": {
     "name": "#%%\n"
    }
   }
  },
  {
   "cell_type": "code",
   "execution_count": 60,
   "outputs": [
    {
     "name": "stdout",
     "output_type": "stream",
     "text": [
      "Train Result:\n",
      "\n",
      "accuracy score: 1.0000\n",
      "\n",
      "Classification Report: \n",
      "               precision    recall  f1-score   support\n",
      "\n",
      "           1       1.00      1.00      1.00     80030\n",
      "\n",
      "    accuracy                           1.00     80030\n",
      "   macro avg       1.00      1.00      1.00     80030\n",
      "weighted avg       1.00      1.00      1.00     80030\n",
      "\n",
      "\n",
      "Confusion Matrix: \n",
      " [[80030]]\n",
      "\n",
      "Average Accuracy: \t 1.0000\n",
      "Accuracy SD: \t\t 0.0000\n"
     ]
    }
   ],
   "source": [
    "print_score(rf_clf, X_train, y_train, X_test, y_test, train=True)"
   ],
   "metadata": {
    "collapsed": false,
    "pycharm": {
     "name": "#%%\n"
    }
   }
  },
  {
   "cell_type": "code",
   "execution_count": 61,
   "outputs": [
    {
     "name": "stdout",
     "output_type": "stream",
     "text": [
      "Test Result:\n",
      "\n",
      "accuracy score: 1.0000\n",
      "\n",
      "Classification Report: \n",
      "               precision    recall  f1-score   support\n",
      "\n",
      "           1       1.00      1.00      1.00     80030\n",
      "\n",
      "    accuracy                           1.00     80030\n",
      "   macro avg       1.00      1.00      1.00     80030\n",
      "weighted avg       1.00      1.00      1.00     80030\n",
      "\n",
      "\n",
      "Confusion Matrix: \n",
      " [[80030]]\n",
      "\n"
     ]
    }
   ],
   "source": [
    "print_score(rf_clf, X_train, y_train, X_test, y_test, train=False)"
   ],
   "metadata": {
    "collapsed": false,
    "pycharm": {
     "name": "#%%\n"
    }
   }
  },
  {
   "cell_type": "markdown",
   "source": [
    "## AdaBoost"
   ],
   "metadata": {
    "collapsed": false,
    "pycharm": {
     "name": "#%% md\n"
    }
   }
  },
  {
   "cell_type": "code",
   "execution_count": 62,
   "outputs": [
    {
     "data": {
      "text/plain": "AdaBoostClassifier()"
     },
     "execution_count": 62,
     "metadata": {},
     "output_type": "execute_result"
    }
   ],
   "source": [
    "from sklearn.ensemble import AdaBoostClassifier\n",
    "ada_clf = AdaBoostClassifier()\n",
    "ada_clf.fit(X_train, y_train.ravel())"
   ],
   "metadata": {
    "collapsed": false,
    "pycharm": {
     "name": "#%%\n"
    }
   }
  },
  {
   "cell_type": "code",
   "execution_count": 63,
   "outputs": [
    {
     "name": "stdout",
     "output_type": "stream",
     "text": [
      "Train Result:\n",
      "\n",
      "accuracy score: 1.0000\n",
      "\n",
      "Classification Report: \n",
      "               precision    recall  f1-score   support\n",
      "\n",
      "           1       1.00      1.00      1.00     80030\n",
      "\n",
      "    accuracy                           1.00     80030\n",
      "   macro avg       1.00      1.00      1.00     80030\n",
      "weighted avg       1.00      1.00      1.00     80030\n",
      "\n",
      "\n",
      "Confusion Matrix: \n",
      " [[80030]]\n",
      "\n",
      "Average Accuracy: \t 1.0000\n",
      "Accuracy SD: \t\t 0.0000\n"
     ]
    }
   ],
   "source": [
    "print_score(ada_clf, X_train, y_train, X_test, y_test, train=True)"
   ],
   "metadata": {
    "collapsed": false,
    "pycharm": {
     "name": "#%%\n"
    }
   }
  },
  {
   "cell_type": "code",
   "execution_count": 64,
   "outputs": [
    {
     "name": "stdout",
     "output_type": "stream",
     "text": [
      "Test Result:\n",
      "\n",
      "accuracy score: 1.0000\n",
      "\n",
      "Classification Report: \n",
      "               precision    recall  f1-score   support\n",
      "\n",
      "           1       1.00      1.00      1.00     80030\n",
      "\n",
      "    accuracy                           1.00     80030\n",
      "   macro avg       1.00      1.00      1.00     80030\n",
      "weighted avg       1.00      1.00      1.00     80030\n",
      "\n",
      "\n",
      "Confusion Matrix: \n",
      " [[80030]]\n",
      "\n"
     ]
    }
   ],
   "source": [
    "print_score(ada_clf, X_train, y_train, X_test, y_test, train=False)"
   ],
   "metadata": {
    "collapsed": false,
    "pycharm": {
     "name": "#%%\n"
    }
   }
  },
  {
   "cell_type": "markdown",
   "source": [
    "## AdaBoost + RandomForest"
   ],
   "metadata": {
    "collapsed": false
   }
  },
  {
   "cell_type": "code",
   "execution_count": 65,
   "outputs": [
    {
     "data": {
      "text/plain": "AdaBoostClassifier(base_estimator=RandomForestClassifier(), n_estimators=100)"
     },
     "execution_count": 65,
     "metadata": {},
     "output_type": "execute_result"
    }
   ],
   "source": [
    "ada_clf = AdaBoostClassifier(RandomForestClassifier(n_estimators=100), n_estimators=100)\n",
    "ada_clf.fit(X_train, y_train.ravel())"
   ],
   "metadata": {
    "collapsed": false,
    "pycharm": {
     "name": "#%%\n"
    }
   }
  },
  {
   "cell_type": "code",
   "execution_count": 66,
   "outputs": [
    {
     "name": "stdout",
     "output_type": "stream",
     "text": [
      "Train Result:\n",
      "\n",
      "accuracy score: 1.0000\n",
      "\n",
      "Classification Report: \n",
      "               precision    recall  f1-score   support\n",
      "\n",
      "           1       1.00      1.00      1.00     80030\n",
      "\n",
      "    accuracy                           1.00     80030\n",
      "   macro avg       1.00      1.00      1.00     80030\n",
      "weighted avg       1.00      1.00      1.00     80030\n",
      "\n",
      "\n",
      "Confusion Matrix: \n",
      " [[80030]]\n",
      "\n",
      "Average Accuracy: \t 1.0000\n",
      "Accuracy SD: \t\t 0.0000\n"
     ]
    }
   ],
   "source": [
    "print_score(ada_clf, X_train, y_train, X_test, y_test, train=True)"
   ],
   "metadata": {
    "collapsed": false,
    "pycharm": {
     "name": "#%%\n"
    }
   }
  },
  {
   "cell_type": "code",
   "execution_count": 67,
   "outputs": [
    {
     "name": "stdout",
     "output_type": "stream",
     "text": [
      "Test Result:\n",
      "\n",
      "accuracy score: 1.0000\n",
      "\n",
      "Classification Report: \n",
      "               precision    recall  f1-score   support\n",
      "\n",
      "           1       1.00      1.00      1.00     80030\n",
      "\n",
      "    accuracy                           1.00     80030\n",
      "   macro avg       1.00      1.00      1.00     80030\n",
      "weighted avg       1.00      1.00      1.00     80030\n",
      "\n",
      "\n",
      "Confusion Matrix: \n",
      " [[80030]]\n",
      "\n"
     ]
    }
   ],
   "source": [
    "print_score(ada_clf, X_train, y_train, X_test, y_test, train=False)"
   ],
   "metadata": {
    "collapsed": false,
    "pycharm": {
     "name": "#%%\n"
    }
   }
  },
  {
   "cell_type": "markdown",
   "source": [
    "## XGBoost"
   ],
   "metadata": {
    "collapsed": false
   }
  },
  {
   "cell_type": "code",
   "execution_count": 68,
   "outputs": [
    {
     "name": "stdout",
     "output_type": "stream",
     "text": [
      "[12:39:12] WARNING: C:/Users/Administrator/workspace/xgboost-win64_release_1.5.1/src/learner.cc:1115: Starting in XGBoost 1.3.0, the default evaluation metric used with the objective 'binary:logistic' was changed from 'error' to 'logloss'. Explicitly set eval_metric if you'd like to restore the old behavior.\n"
     ]
    },
    {
     "name": "stderr",
     "output_type": "stream",
     "text": [
      "C:\\Users\\Anoops\\PycharmProjects\\pythonProject\\venv\\lib\\site-packages\\xgboost\\sklearn.py:1224: UserWarning: The use of label encoder in XGBClassifier is deprecated and will be removed in a future release. To remove this warning, do the following: 1) Pass option use_label_encoder=False when constructing XGBClassifier object; and 2) Encode your labels (y) as integers starting with 0, i.e. 0, 1, 2, ..., [num_class - 1].\n",
      "  warnings.warn(label_encoder_deprecation_msg, UserWarning)\n"
     ]
    },
    {
     "data": {
      "text/plain": "XGBClassifier(base_score=0.5, booster='gbtree', colsample_bylevel=1,\n              colsample_bynode=1, colsample_bytree=1, enable_categorical=False,\n              gamma=0, gpu_id=-1, importance_type=None,\n              interaction_constraints='', learning_rate=0.300000012,\n              max_delta_step=0, max_depth=6, min_child_weight=1, missing=nan,\n              monotone_constraints='()', n_estimators=100, n_jobs=8,\n              num_parallel_tree=1, predictor='auto', random_state=0,\n              reg_alpha=0, reg_lambda=1, scale_pos_weight=1, subsample=1,\n              tree_method='exact', validate_parameters=1, verbosity=None)"
     },
     "execution_count": 68,
     "metadata": {},
     "output_type": "execute_result"
    }
   ],
   "source": [
    "import xgboost as xgb\n",
    "xgb_clf = xgb.XGBClassifier(n_estimators=100)\n",
    "xgb_clf.fit(X_train, y_train.ravel())"
   ],
   "metadata": {
    "collapsed": false,
    "pycharm": {
     "name": "#%%\n"
    }
   }
  },
  {
   "cell_type": "code",
   "execution_count": 69,
   "outputs": [
    {
     "name": "stdout",
     "output_type": "stream",
     "text": [
      "Train Result:\n",
      "\n",
      "accuracy score: 1.0000\n",
      "\n",
      "Classification Report: \n",
      "               precision    recall  f1-score   support\n",
      "\n",
      "           1       1.00      1.00      1.00     80030\n",
      "\n",
      "    accuracy                           1.00     80030\n",
      "   macro avg       1.00      1.00      1.00     80030\n",
      "weighted avg       1.00      1.00      1.00     80030\n",
      "\n",
      "\n",
      "Confusion Matrix: \n",
      " [[80030]]\n",
      "\n"
     ]
    },
    {
     "name": "stderr",
     "output_type": "stream",
     "text": [
      "C:\\Users\\Anoops\\PycharmProjects\\pythonProject\\venv\\lib\\site-packages\\xgboost\\sklearn.py:1224: UserWarning: The use of label encoder in XGBClassifier is deprecated and will be removed in a future release. To remove this warning, do the following: 1) Pass option use_label_encoder=False when constructing XGBClassifier object; and 2) Encode your labels (y) as integers starting with 0, i.e. 0, 1, 2, ..., [num_class - 1].\n",
      "  warnings.warn(label_encoder_deprecation_msg, UserWarning)\n"
     ]
    },
    {
     "name": "stdout",
     "output_type": "stream",
     "text": [
      "[12:39:13] WARNING: C:/Users/Administrator/workspace/xgboost-win64_release_1.5.1/src/learner.cc:1115: Starting in XGBoost 1.3.0, the default evaluation metric used with the objective 'binary:logistic' was changed from 'error' to 'logloss'. Explicitly set eval_metric if you'd like to restore the old behavior.\n"
     ]
    },
    {
     "name": "stderr",
     "output_type": "stream",
     "text": [
      "C:\\Users\\Anoops\\PycharmProjects\\pythonProject\\venv\\lib\\site-packages\\xgboost\\sklearn.py:1224: UserWarning: The use of label encoder in XGBClassifier is deprecated and will be removed in a future release. To remove this warning, do the following: 1) Pass option use_label_encoder=False when constructing XGBClassifier object; and 2) Encode your labels (y) as integers starting with 0, i.e. 0, 1, 2, ..., [num_class - 1].\n",
      "  warnings.warn(label_encoder_deprecation_msg, UserWarning)\n"
     ]
    },
    {
     "name": "stdout",
     "output_type": "stream",
     "text": [
      "[12:39:14] WARNING: C:/Users/Administrator/workspace/xgboost-win64_release_1.5.1/src/learner.cc:1115: Starting in XGBoost 1.3.0, the default evaluation metric used with the objective 'binary:logistic' was changed from 'error' to 'logloss'. Explicitly set eval_metric if you'd like to restore the old behavior.\n"
     ]
    },
    {
     "name": "stderr",
     "output_type": "stream",
     "text": [
      "C:\\Users\\Anoops\\PycharmProjects\\pythonProject\\venv\\lib\\site-packages\\xgboost\\sklearn.py:1224: UserWarning: The use of label encoder in XGBClassifier is deprecated and will be removed in a future release. To remove this warning, do the following: 1) Pass option use_label_encoder=False when constructing XGBClassifier object; and 2) Encode your labels (y) as integers starting with 0, i.e. 0, 1, 2, ..., [num_class - 1].\n",
      "  warnings.warn(label_encoder_deprecation_msg, UserWarning)\n"
     ]
    },
    {
     "name": "stdout",
     "output_type": "stream",
     "text": [
      "[12:39:15] WARNING: C:/Users/Administrator/workspace/xgboost-win64_release_1.5.1/src/learner.cc:1115: Starting in XGBoost 1.3.0, the default evaluation metric used with the objective 'binary:logistic' was changed from 'error' to 'logloss'. Explicitly set eval_metric if you'd like to restore the old behavior.\n"
     ]
    },
    {
     "name": "stderr",
     "output_type": "stream",
     "text": [
      "C:\\Users\\Anoops\\PycharmProjects\\pythonProject\\venv\\lib\\site-packages\\xgboost\\sklearn.py:1224: UserWarning: The use of label encoder in XGBClassifier is deprecated and will be removed in a future release. To remove this warning, do the following: 1) Pass option use_label_encoder=False when constructing XGBClassifier object; and 2) Encode your labels (y) as integers starting with 0, i.e. 0, 1, 2, ..., [num_class - 1].\n",
      "  warnings.warn(label_encoder_deprecation_msg, UserWarning)\n"
     ]
    },
    {
     "name": "stdout",
     "output_type": "stream",
     "text": [
      "[12:39:15] WARNING: C:/Users/Administrator/workspace/xgboost-win64_release_1.5.1/src/learner.cc:1115: Starting in XGBoost 1.3.0, the default evaluation metric used with the objective 'binary:logistic' was changed from 'error' to 'logloss'. Explicitly set eval_metric if you'd like to restore the old behavior.\n"
     ]
    },
    {
     "name": "stderr",
     "output_type": "stream",
     "text": [
      "C:\\Users\\Anoops\\PycharmProjects\\pythonProject\\venv\\lib\\site-packages\\xgboost\\sklearn.py:1224: UserWarning: The use of label encoder in XGBClassifier is deprecated and will be removed in a future release. To remove this warning, do the following: 1) Pass option use_label_encoder=False when constructing XGBClassifier object; and 2) Encode your labels (y) as integers starting with 0, i.e. 0, 1, 2, ..., [num_class - 1].\n",
      "  warnings.warn(label_encoder_deprecation_msg, UserWarning)\n"
     ]
    },
    {
     "name": "stdout",
     "output_type": "stream",
     "text": [
      "[12:39:16] WARNING: C:/Users/Administrator/workspace/xgboost-win64_release_1.5.1/src/learner.cc:1115: Starting in XGBoost 1.3.0, the default evaluation metric used with the objective 'binary:logistic' was changed from 'error' to 'logloss'. Explicitly set eval_metric if you'd like to restore the old behavior.\n"
     ]
    },
    {
     "name": "stderr",
     "output_type": "stream",
     "text": [
      "C:\\Users\\Anoops\\PycharmProjects\\pythonProject\\venv\\lib\\site-packages\\xgboost\\sklearn.py:1224: UserWarning: The use of label encoder in XGBClassifier is deprecated and will be removed in a future release. To remove this warning, do the following: 1) Pass option use_label_encoder=False when constructing XGBClassifier object; and 2) Encode your labels (y) as integers starting with 0, i.e. 0, 1, 2, ..., [num_class - 1].\n",
      "  warnings.warn(label_encoder_deprecation_msg, UserWarning)\n"
     ]
    },
    {
     "name": "stdout",
     "output_type": "stream",
     "text": [
      "[12:39:17] WARNING: C:/Users/Administrator/workspace/xgboost-win64_release_1.5.1/src/learner.cc:1115: Starting in XGBoost 1.3.0, the default evaluation metric used with the objective 'binary:logistic' was changed from 'error' to 'logloss'. Explicitly set eval_metric if you'd like to restore the old behavior.\n"
     ]
    },
    {
     "name": "stderr",
     "output_type": "stream",
     "text": [
      "C:\\Users\\Anoops\\PycharmProjects\\pythonProject\\venv\\lib\\site-packages\\xgboost\\sklearn.py:1224: UserWarning: The use of label encoder in XGBClassifier is deprecated and will be removed in a future release. To remove this warning, do the following: 1) Pass option use_label_encoder=False when constructing XGBClassifier object; and 2) Encode your labels (y) as integers starting with 0, i.e. 0, 1, 2, ..., [num_class - 1].\n",
      "  warnings.warn(label_encoder_deprecation_msg, UserWarning)\n"
     ]
    },
    {
     "name": "stdout",
     "output_type": "stream",
     "text": [
      "[12:39:18] WARNING: C:/Users/Administrator/workspace/xgboost-win64_release_1.5.1/src/learner.cc:1115: Starting in XGBoost 1.3.0, the default evaluation metric used with the objective 'binary:logistic' was changed from 'error' to 'logloss'. Explicitly set eval_metric if you'd like to restore the old behavior.\n"
     ]
    },
    {
     "name": "stderr",
     "output_type": "stream",
     "text": [
      "C:\\Users\\Anoops\\PycharmProjects\\pythonProject\\venv\\lib\\site-packages\\xgboost\\sklearn.py:1224: UserWarning: The use of label encoder in XGBClassifier is deprecated and will be removed in a future release. To remove this warning, do the following: 1) Pass option use_label_encoder=False when constructing XGBClassifier object; and 2) Encode your labels (y) as integers starting with 0, i.e. 0, 1, 2, ..., [num_class - 1].\n",
      "  warnings.warn(label_encoder_deprecation_msg, UserWarning)\n"
     ]
    },
    {
     "name": "stdout",
     "output_type": "stream",
     "text": [
      "[12:39:18] WARNING: C:/Users/Administrator/workspace/xgboost-win64_release_1.5.1/src/learner.cc:1115: Starting in XGBoost 1.3.0, the default evaluation metric used with the objective 'binary:logistic' was changed from 'error' to 'logloss'. Explicitly set eval_metric if you'd like to restore the old behavior.\n"
     ]
    },
    {
     "name": "stderr",
     "output_type": "stream",
     "text": [
      "C:\\Users\\Anoops\\PycharmProjects\\pythonProject\\venv\\lib\\site-packages\\xgboost\\sklearn.py:1224: UserWarning: The use of label encoder in XGBClassifier is deprecated and will be removed in a future release. To remove this warning, do the following: 1) Pass option use_label_encoder=False when constructing XGBClassifier object; and 2) Encode your labels (y) as integers starting with 0, i.e. 0, 1, 2, ..., [num_class - 1].\n",
      "  warnings.warn(label_encoder_deprecation_msg, UserWarning)\n"
     ]
    },
    {
     "name": "stdout",
     "output_type": "stream",
     "text": [
      "[12:39:19] WARNING: C:/Users/Administrator/workspace/xgboost-win64_release_1.5.1/src/learner.cc:1115: Starting in XGBoost 1.3.0, the default evaluation metric used with the objective 'binary:logistic' was changed from 'error' to 'logloss'. Explicitly set eval_metric if you'd like to restore the old behavior.\n"
     ]
    },
    {
     "name": "stderr",
     "output_type": "stream",
     "text": [
      "C:\\Users\\Anoops\\PycharmProjects\\pythonProject\\venv\\lib\\site-packages\\xgboost\\sklearn.py:1224: UserWarning: The use of label encoder in XGBClassifier is deprecated and will be removed in a future release. To remove this warning, do the following: 1) Pass option use_label_encoder=False when constructing XGBClassifier object; and 2) Encode your labels (y) as integers starting with 0, i.e. 0, 1, 2, ..., [num_class - 1].\n",
      "  warnings.warn(label_encoder_deprecation_msg, UserWarning)\n"
     ]
    },
    {
     "name": "stdout",
     "output_type": "stream",
     "text": [
      "[12:39:20] WARNING: C:/Users/Administrator/workspace/xgboost-win64_release_1.5.1/src/learner.cc:1115: Starting in XGBoost 1.3.0, the default evaluation metric used with the objective 'binary:logistic' was changed from 'error' to 'logloss'. Explicitly set eval_metric if you'd like to restore the old behavior.\n",
      "Average Accuracy: \t 1.0000\n",
      "Accuracy SD: \t\t 0.0000\n"
     ]
    }
   ],
   "source": [
    "print_score(xgb_clf, X_train, y_train, X_test, y_test, train=True)"
   ],
   "metadata": {
    "collapsed": false,
    "pycharm": {
     "name": "#%%\n"
    }
   }
  },
  {
   "cell_type": "code",
   "execution_count": 70,
   "outputs": [
    {
     "name": "stdout",
     "output_type": "stream",
     "text": [
      "Test Result:\n",
      "\n",
      "accuracy score: 1.0000\n",
      "\n",
      "Classification Report: \n",
      "               precision    recall  f1-score   support\n",
      "\n",
      "           1       1.00      1.00      1.00     80030\n",
      "\n",
      "    accuracy                           1.00     80030\n",
      "   macro avg       1.00      1.00      1.00     80030\n",
      "weighted avg       1.00      1.00      1.00     80030\n",
      "\n",
      "\n",
      "Confusion Matrix: \n",
      " [[80030]]\n",
      "\n"
     ]
    }
   ],
   "source": [
    "print_score(xgb_clf, X_train, y_train, X_test, y_test, train=False)"
   ],
   "metadata": {
    "collapsed": false,
    "pycharm": {
     "name": "#%%\n"
    }
   }
  }
 ],
 "metadata": {
  "kernelspec": {
   "display_name": "Python 3",
   "language": "python",
   "name": "python3"
  },
  "language_info": {
   "codemirror_mode": {
    "name": "ipython",
    "version": 2
   },
   "file_extension": ".py",
   "mimetype": "text/x-python",
   "name": "python",
   "nbconvert_exporter": "python",
   "pygments_lexer": "ipython2",
   "version": "2.7.6"
  }
 },
 "nbformat": 4,
 "nbformat_minor": 0
}